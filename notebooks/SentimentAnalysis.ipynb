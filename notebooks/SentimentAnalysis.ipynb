{
 "cells": [
  {
   "cell_type": "code",
   "execution_count": null,
   "metadata": {},
   "outputs": [],
   "source": [
    "# !pip install nltk"
   ]
  },
  {
   "cell_type": "code",
   "execution_count": 99,
   "metadata": {},
   "outputs": [],
   "source": [
    "import nltk"
   ]
  },
  {
   "cell_type": "code",
   "execution_count": 100,
   "metadata": {},
   "outputs": [],
   "source": [
    "def extract_words(document: str) -> set:\n",
    "    return set(\n",
    "        word.lower()\n",
    "        for word in nltk.word_tokenize(document)\n",
    "        if any(c.isalpha() for c in word)\n",
    "    )"
   ]
  },
  {
   "cell_type": "code",
   "execution_count": 101,
   "metadata": {},
   "outputs": [],
   "source": [
    "result = []\n",
    "for filename in [\"../data/sentiment/positive.txt\", \"../data/sentiment/negative.txt\"]:\n",
    "    with open(filename) as f:\n",
    "        result.append([extract_words(line) for line in f.read().splitlines()])"
   ]
  },
  {
   "cell_type": "code",
   "execution_count": 107,
   "metadata": {},
   "outputs": [
    {
     "data": {
      "text/plain": [
       "({'great', 'it', 'was'}, {'it', 'not', 'worth'})"
      ]
     },
     "execution_count": 107,
     "metadata": {},
     "output_type": "execute_result"
    }
   ],
   "source": [
    "result[0][0], result[1][0]"
   ]
  },
  {
   "cell_type": "code",
   "execution_count": 106,
   "metadata": {},
   "outputs": [],
   "source": [
    "words = set()\n",
    "for document in result[0]:\n",
    "    words.update(document)\n",
    "for document in result[1]:\n",
    "    words.update(document)"
   ]
  },
  {
   "cell_type": "code",
   "execution_count": 112,
   "metadata": {},
   "outputs": [],
   "source": [
    "def generate_features(documents: list, words: set, label: str) -> list:\n",
    "    features = []\n",
    "    for document in documents:\n",
    "        features.append(({word: (word in document) for word in words}, label))\n",
    "    return features"
   ]
  },
  {
   "cell_type": "code",
   "execution_count": 113,
   "metadata": {},
   "outputs": [],
   "source": [
    "training = []\n",
    "training.extend(generate_features(result[0], words, \"Positive\"))\n",
    "training.extend(generate_features(result[1], words, \"Negative\"))"
   ]
  },
  {
   "cell_type": "code",
   "execution_count": 114,
   "metadata": {},
   "outputs": [],
   "source": [
    "def classify(classifier: nltk.NaiveBayesClassifier, query: str, words: set):\n",
    "    document_words = extract_words(query)\n",
    "    features = {word: (word in document_words) for word in words}\n",
    "    return classifier.prob_classify(features)"
   ]
  },
  {
   "cell_type": "code",
   "execution_count": 115,
   "metadata": {},
   "outputs": [],
   "source": [
    "classifier = nltk.NaiveBayesClassifier.train(training)"
   ]
  },
  {
   "cell_type": "code",
   "execution_count": 116,
   "metadata": {},
   "outputs": [],
   "source": [
    "def check_sentiment(query: str):\n",
    "    result = classify(classifier, query, words)\n",
    "    for key in result.samples():\n",
    "        print(f\"{key}: {result.prob(key):.4f}\")"
   ]
  },
  {
   "cell_type": "code",
   "execution_count": 117,
   "metadata": {},
   "outputs": [
    {
     "name": "stdout",
     "output_type": "stream",
     "text": [
      "Positive: 0.9488\n",
      "Negative: 0.0512\n"
     ]
    }
   ],
   "source": [
    "check_sentiment(\"I had a great time\")"
   ]
  },
  {
   "cell_type": "code",
   "execution_count": 118,
   "metadata": {},
   "outputs": [
    {
     "name": "stdout",
     "output_type": "stream",
     "text": [
      "Positive: 0.0438\n",
      "Negative: 0.9562\n"
     ]
    }
   ],
   "source": [
    "check_sentiment(\"kind of overpriced\")"
   ]
  },
  {
   "cell_type": "code",
   "execution_count": null,
   "metadata": {},
   "outputs": [],
   "source": []
  }
 ],
 "metadata": {
  "kernelspec": {
   "display_name": "techhub",
   "language": "python",
   "name": "python3"
  },
  "language_info": {
   "codemirror_mode": {
    "name": "ipython",
    "version": 3
   },
   "file_extension": ".py",
   "mimetype": "text/x-python",
   "name": "python",
   "nbconvert_exporter": "python",
   "pygments_lexer": "ipython3",
   "version": "3.11.9"
  }
 },
 "nbformat": 4,
 "nbformat_minor": 2
}
