{
 "cells": [
  {
   "cell_type": "code",
   "execution_count": null,
   "metadata": {},
   "outputs": [],
   "source": [
    "# !pip install nltk markovify"
   ]
  },
  {
   "cell_type": "code",
   "execution_count": 2,
   "metadata": {},
   "outputs": [],
   "source": [
    "import nltk\n",
    "\n",
    "from collections import Counter"
   ]
  },
  {
   "cell_type": "code",
   "execution_count": 3,
   "metadata": {},
   "outputs": [],
   "source": [
    "corpus = []\n",
    "\n",
    "with open(\"../data/harry-potter/Harry-Potter-Sorcerer.txt\", encoding=\"ISO-8859-1\") as f:\n",
    "    corpus.extend(\n",
    "        [\n",
    "            word.lower()\n",
    "            for word in nltk.word_tokenize(f.read())\n",
    "            if any(c.isalpha() for c in word)\n",
    "        ]\n",
    "    )"
   ]
  },
  {
   "cell_type": "code",
   "execution_count": 4,
   "metadata": {},
   "outputs": [
    {
     "name": "stdout",
     "output_type": "stream",
     "text": [
      "63: ('out', 'of', 'the')\n",
      "45: ('i', 'do', \"n't\")\n",
      "38: ('he', 'did', \"n't\")\n",
      "37: ('harry', 'and', 'ron')\n",
      "35: ('there', 'was', 'a')\n",
      "35: ('he', 'could', \"n't\")\n",
      "33: ('ron', 'and', 'hermione')\n",
      "28: ('it', 'was', 'a')\n",
      "24: ('in', 'front', 'of')\n",
      "22: ('they', 'did', \"n't\")\n"
     ]
    }
   ],
   "source": [
    "num_grams = 3\n",
    "\n",
    "ngrams = Counter(nltk.ngrams(corpus, num_grams))\n",
    "\n",
    "for ngram, freq in ngrams.most_common(10):\n",
    "    print(f\"{freq}: {ngram}\")"
   ]
  },
  {
   "cell_type": "code",
   "execution_count": 5,
   "metadata": {},
   "outputs": [],
   "source": [
    "with open(\"../data/harry-potter/Harry-Potter-Sorcerer.txt\", encoding=\"ISO-8859-1\") as f:\n",
    "    text = f.readlines()\n",
    "\n",
    "    text = [x for x in text if not x.isupper()]\n",
    "    text = [x for x in text if x != \"\\n\"]"
   ]
  },
  {
   "cell_type": "code",
   "execution_count": 6,
   "metadata": {},
   "outputs": [
    {
     "name": "stdout",
     "output_type": "stream",
     "text": [
      "Anyway, we've never had any proof Snape found out how to get past Fluffy... never... but -- Harry suddenly jumped to his feet.\n",
      "\n",
      "Soon the hut was full of the delicious smell of baking pumpkin wafting through the corridors.\n",
      "\n",
      "Harry and Seamus swished and flicked, but the feather they were supposed to be doing as they hung in midair to watch.\n",
      "\n",
      "She stopped to draw a deep breath and picked up the card.\n",
      "\n",
      "He looked back at the whisperers as if he wanted to say something to defend himself, but there seemed to be a silver cigarette lighter.\n",
      "\n"
     ]
    }
   ],
   "source": [
    "import markovify\n",
    "\n",
    "text_model = markovify.Text(text)\n",
    "\n",
    "for i in range(5):\n",
    "    sentence = None\n",
    "    while sentence is None:\n",
    "        sentence = text_model.make_sentence()\n",
    "    print(sentence, end=\"\\n\\n\")"
   ]
  },
  {
   "cell_type": "code",
   "execution_count": null,
   "metadata": {},
   "outputs": [],
   "source": []
  }
 ],
 "metadata": {
  "kernelspec": {
   "display_name": "techhub",
   "language": "python",
   "name": "python3"
  },
  "language_info": {
   "codemirror_mode": {
    "name": "ipython",
    "version": 3
   },
   "file_extension": ".py",
   "mimetype": "text/x-python",
   "name": "python",
   "nbconvert_exporter": "python",
   "pygments_lexer": "ipython3",
   "version": "3.11.9"
  }
 },
 "nbformat": 4,
 "nbformat_minor": 2
}
